{
 "cells": [
  {
   "cell_type": "code",
   "execution_count": 1,
   "metadata": {},
   "outputs": [],
   "source": [
    "#coding:utf8\n",
    "import numpy as np\n",
    "import pandas as pd\n",
    "import re\n",
    "import nltk"
   ]
  },
  {
   "cell_type": "code",
   "execution_count": 2,
   "metadata": {},
   "outputs": [],
   "source": [
    "comments=pd.read_excel(\"data.xlsx\")"
   ]
  },
  {
   "cell_type": "code",
   "execution_count": 3,
   "metadata": {},
   "outputs": [
    {
     "data": {
      "text/html": [
       "<div>\n",
       "<style scoped>\n",
       "    .dataframe tbody tr th:only-of-type {\n",
       "        vertical-align: middle;\n",
       "    }\n",
       "\n",
       "    .dataframe tbody tr th {\n",
       "        vertical-align: top;\n",
       "    }\n",
       "\n",
       "    .dataframe thead th {\n",
       "        text-align: right;\n",
       "    }\n",
       "</style>\n",
       "<table border=\"1\" class=\"dataframe\">\n",
       "  <thead>\n",
       "    <tr style=\"text-align: right;\">\n",
       "      <th></th>\n",
       "      <th>Unnamed: 0</th>\n",
       "      <th>Cümleler</th>\n",
       "      <th>Siber Zorbalıksa 1 Değilse 0</th>\n",
       "    </tr>\n",
       "  </thead>\n",
       "  <tbody>\n",
       "    <tr>\n",
       "      <th>0</th>\n",
       "      <td>0.0</td>\n",
       "      <td>Gençler ayrı bir sempatik olyr deli dolu olyr ...</td>\n",
       "      <td>0</td>\n",
       "    </tr>\n",
       "    <tr>\n",
       "      <th>1</th>\n",
       "      <td>1.0</td>\n",
       "      <td>Devlet bunlara bakmıyo sonra biz uğraşıyoruz</td>\n",
       "      <td>1</td>\n",
       "    </tr>\n",
       "    <tr>\n",
       "      <th>2</th>\n",
       "      <td>2.0</td>\n",
       "      <td>Atatürk bu adamı görse ağlardı</td>\n",
       "      <td>1</td>\n",
       "    </tr>\n",
       "    <tr>\n",
       "      <th>3</th>\n",
       "      <td>3.0</td>\n",
       "      <td>\"Türk milleti zekidir ' derken bundan bahsetmi...</td>\n",
       "      <td>1</td>\n",
       "    </tr>\n",
       "    <tr>\n",
       "      <th>4</th>\n",
       "      <td>4.0</td>\n",
       "      <td>Allah'ım sen bana sabır, bu insanlara da beyin...</td>\n",
       "      <td>1</td>\n",
       "    </tr>\n",
       "  </tbody>\n",
       "</table>\n",
       "</div>"
      ],
      "text/plain": [
       "   Unnamed: 0                                           Cümleler  \\\n",
       "0         0.0  Gençler ayrı bir sempatik olyr deli dolu olyr ...   \n",
       "1         1.0       Devlet bunlara bakmıyo sonra biz uğraşıyoruz   \n",
       "2         2.0                     Atatürk bu adamı görse ağlardı   \n",
       "3         3.0  \"Türk milleti zekidir ' derken bundan bahsetmi...   \n",
       "4         4.0  Allah'ım sen bana sabır, bu insanlara da beyin...   \n",
       "\n",
       "   Siber Zorbalıksa 1 Değilse 0  \n",
       "0                             0  \n",
       "1                             1  \n",
       "2                             1  \n",
       "3                             1  \n",
       "4                             1  "
      ]
     },
     "execution_count": 3,
     "metadata": {},
     "output_type": "execute_result"
    }
   ],
   "source": [
    "comments.head()"
   ]
  },
  {
   "cell_type": "code",
   "execution_count": 4,
   "metadata": {},
   "outputs": [
    {
     "data": {
      "text/html": [
       "<div>\n",
       "<style scoped>\n",
       "    .dataframe tbody tr th:only-of-type {\n",
       "        vertical-align: middle;\n",
       "    }\n",
       "\n",
       "    .dataframe tbody tr th {\n",
       "        vertical-align: top;\n",
       "    }\n",
       "\n",
       "    .dataframe thead th {\n",
       "        text-align: right;\n",
       "    }\n",
       "</style>\n",
       "<table border=\"1\" class=\"dataframe\">\n",
       "  <thead>\n",
       "    <tr style=\"text-align: right;\">\n",
       "      <th></th>\n",
       "      <th>Cümleler</th>\n",
       "      <th>Siber Zorbalıksa 1 Değilse 0</th>\n",
       "    </tr>\n",
       "  </thead>\n",
       "  <tbody>\n",
       "    <tr>\n",
       "      <th>0</th>\n",
       "      <td>Gençler ayrı bir sempatik olyr deli dolu olyr ...</td>\n",
       "      <td>0</td>\n",
       "    </tr>\n",
       "    <tr>\n",
       "      <th>1</th>\n",
       "      <td>Devlet bunlara bakmıyo sonra biz uğraşıyoruz</td>\n",
       "      <td>1</td>\n",
       "    </tr>\n",
       "    <tr>\n",
       "      <th>2</th>\n",
       "      <td>Atatürk bu adamı görse ağlardı</td>\n",
       "      <td>1</td>\n",
       "    </tr>\n",
       "    <tr>\n",
       "      <th>3</th>\n",
       "      <td>\"Türk milleti zekidir ' derken bundan bahsetmi...</td>\n",
       "      <td>1</td>\n",
       "    </tr>\n",
       "    <tr>\n",
       "      <th>4</th>\n",
       "      <td>Allah'ım sen bana sabır, bu insanlara da beyin...</td>\n",
       "      <td>1</td>\n",
       "    </tr>\n",
       "  </tbody>\n",
       "</table>\n",
       "</div>"
      ],
      "text/plain": [
       "                                            Cümleler  \\\n",
       "0  Gençler ayrı bir sempatik olyr deli dolu olyr ...   \n",
       "1       Devlet bunlara bakmıyo sonra biz uğraşıyoruz   \n",
       "2                     Atatürk bu adamı görse ağlardı   \n",
       "3  \"Türk milleti zekidir ' derken bundan bahsetmi...   \n",
       "4  Allah'ım sen bana sabır, bu insanlara da beyin...   \n",
       "\n",
       "   Siber Zorbalıksa 1 Değilse 0  \n",
       "0                             0  \n",
       "1                             1  \n",
       "2                             1  \n",
       "3                             1  \n",
       "4                             1  "
      ]
     },
     "execution_count": 4,
     "metadata": {},
     "output_type": "execute_result"
    }
   ],
   "source": [
    "data = pd.read_excel(\"data.xlsx\",usecols=\"B,C\")\n",
    "data.head()\n"
   ]
  },
  {
   "cell_type": "code",
   "execution_count": 5,
   "metadata": {},
   "outputs": [
    {
     "data": {
      "image/png": "[encoded data removed]",
      "text/plain": [
       "<Figure size 720x720 with 1 Axes>"
      ]
     },
     "metadata": {},
     "output_type": "display_data"
    }
   ],
   "source": [
    "import matplotlib.pyplot as plt\n",
    "disaster=len(data[data[\"Siber Zorbalıksa 1 Değilse 0\"]==1]['Siber Zorbalıksa 1 Değilse 0'])\n",
    "not_disaster=len(data[data[\"Siber Zorbalıksa 1 Değilse 0\"]==0]['Siber Zorbalıksa 1 Değilse 0'])\n",
    "slices = [disaster,not_disaster]\n",
    "labels = [\"Negatif\",\"Pozitif\"]\n",
    "colors =[\"r\",\"g\"]\n",
    "\n",
    "plt.figure(figsize=(10,10))\n",
    "plt.pie(slices,\n",
    "       labels=labels,\n",
    "       colors=colors,\n",
    "       startangle=90,\n",
    "       shadow=True,\n",
    "       explode=(0,0.1),\n",
    "       autopct=\"%1.1f%%\")\n",
    "plt.show()"
   ]
  },
  {
   "cell_type": "code",
   "execution_count": 6,
   "metadata": {},
   "outputs": [
    {
     "data": {
      "text/html": [
       "<div>\n",
       "<style scoped>\n",
       "    .dataframe tbody tr th:only-of-type {\n",
       "        vertical-align: middle;\n",
       "    }\n",
       "\n",
       "    .dataframe tbody tr th {\n",
       "        vertical-align: top;\n",
       "    }\n",
       "\n",
       "    .dataframe thead th {\n",
       "        text-align: right;\n",
       "    }\n",
       "</style>\n",
       "<table border=\"1\" class=\"dataframe\">\n",
       "  <thead>\n",
       "    <tr style=\"text-align: right;\">\n",
       "      <th></th>\n",
       "      <th>Cümleler</th>\n",
       "    </tr>\n",
       "    <tr>\n",
       "      <th>Siber Zorbalıksa 1 Değilse 0</th>\n",
       "      <th></th>\n",
       "    </tr>\n",
       "  </thead>\n",
       "  <tbody>\n",
       "    <tr>\n",
       "      <th>0</th>\n",
       "      <td>8923</td>\n",
       "    </tr>\n",
       "    <tr>\n",
       "      <th>1</th>\n",
       "      <td>3064</td>\n",
       "    </tr>\n",
       "  </tbody>\n",
       "</table>\n",
       "</div>"
      ],
      "text/plain": [
       "                              Cümleler\n",
       "Siber Zorbalıksa 1 Değilse 0          \n",
       "0                                 8923\n",
       "1                                 3064"
      ]
     },
     "execution_count": 6,
     "metadata": {},
     "output_type": "execute_result"
    }
   ],
   "source": [
    "data.groupby(\"Siber Zorbalıksa 1 Değilse 0\").count()"
   ]
  },
  {
   "cell_type": "code",
   "execution_count": 7,
   "metadata": {
    "scrolled": true
   },
   "outputs": [],
   "source": [
    "#from snowballstemmer import TurkishStemmer\n",
    "#ts=TurkishStemmer()\n",
    "#nltk.download('stopwords')\n",
    "from nltk.corpus import stopwords"
   ]
  },
  {
   "cell_type": "code",
   "execution_count": 8,
   "metadata": {},
   "outputs": [
    {
     "data": {
      "text/plain": [
       "11987"
      ]
     },
     "execution_count": 8,
     "metadata": {},
     "output_type": "execute_result"
    }
   ],
   "source": [
    "number=len(comments.index)\n",
    "number"
   ]
  },
  {
   "cell_type": "code",
   "execution_count": 9,
   "metadata": {},
   "outputs": [],
   "source": [
    "newComs=[]\n",
    "for i in range(number):\n",
    "    comment=re.sub(\"^[a-zA-Z0-9ğüşöçİĞÜŞÖÇ]+$\",' ', comments['Cümleler'][i])\n",
    "    comment=comment.lower()\n",
    "    comment=comment.split()\n",
    "    comment=[word for word in comment if not word in set (stopwords.words('turkish'))]\n",
    "    comment=' '.join(comment)\n",
    "    newComs.append(comment)"
   ]
  },
  {
   "cell_type": "code",
   "execution_count": 10,
   "metadata": {},
   "outputs": [],
   "source": [
    "from sklearn.impute import SimpleImputer\n",
    "imp = SimpleImputer(strategy='constant')\n"
   ]
  },
  {
   "cell_type": "code",
   "execution_count": 11,
   "metadata": {},
   "outputs": [
    {
     "data": {
      "text/plain": [
       "<11987x30748 sparse matrix of type '<class 'numpy.int64'>'\n",
       "\twith 100897 stored elements in Compressed Sparse Row format>"
      ]
     },
     "execution_count": 11,
     "metadata": {},
     "output_type": "execute_result"
    }
   ],
   "source": [
    "from sklearn.feature_extraction.text import CountVectorizer\n",
    "cv = CountVectorizer()\n",
    "X=cv.fit_transform(newComs)\n",
    "X"
   ]
  },
  {
   "cell_type": "code",
   "execution_count": 12,
   "metadata": {},
   "outputs": [
    {
     "name": "stdout",
     "output_type": "stream",
     "text": [
      "(11987, 30748)\n"
     ]
    }
   ],
   "source": [
    "from sklearn.feature_extraction.text import TfidfTransformer #TF-İDF\n",
    "tfidf =TfidfTransformer() \n",
    "X = tfidf.fit_transform(X).toarray()\n",
    "\n",
    "print(X.shape)"
   ]
  },
  {
   "cell_type": "code",
   "execution_count": 13,
   "metadata": {},
   "outputs": [],
   "source": [
    "from sklearn.preprocessing import FunctionTransformer\n",
    "one_dim = FunctionTransformer(np.reshape, kw_args={'newshape':-1})\n",
    "from sklearn.pipeline import make_pipeline\n",
    "pipe = make_pipeline(imp, one_dim, cv)"
   ]
  },
  {
   "cell_type": "code",
   "execution_count": 14,
   "metadata": {},
   "outputs": [
    {
     "data": {
      "text/plain": [
       "array([0, 1, 1, ..., 1, 1, 1], dtype=int64)"
      ]
     },
     "execution_count": 14,
     "metadata": {},
     "output_type": "execute_result"
    }
   ],
   "source": [
    "Y=comments.iloc[:,2].values\n",
    "Y"
   ]
  },
  {
   "cell_type": "code",
   "execution_count": 15,
   "metadata": {},
   "outputs": [],
   "source": [
    "from sklearn.model_selection import train_test_split\n",
    "X_train, X_test, Y_train, Y_test = train_test_split(X,Y, test_size = 0.2, random_state=101)\n"
   ]
  },
  {
   "cell_type": "code",
   "execution_count": 16,
   "metadata": {},
   "outputs": [],
   "source": [
    "\n",
    "def plot_confusion_matrix(cm, title='Confusion matrix', cmap=plt.cm.Blues):\n",
    "    plt.imshow(cm, interpolation='nearest', cmap=cmap)\n",
    "    plt.title(title)\n",
    "    plt.colorbar()\n",
    "    tick_marks = np.arange(2)\n",
    "    plt.xticks(tick_marks, [0,1])\n",
    "    plt.yticks(tick_marks, [0,1])\n",
    "    plt.tight_layout()\n",
    "    plt.ylabel('Beklenen Değer')\n",
    "    plt.xlabel('Tahmin Edilen Değer')"
   ]
  },
  {
   "cell_type": "code",
   "execution_count": 17,
   "metadata": {},
   "outputs": [],
   "source": [
    "from sklearn.model_selection import cross_val_score\n",
    "from sklearn.metrics import accuracy_score\n",
    "from sklearn.metrics import precision_score\n",
    "from sklearn.metrics import recall_score\n",
    "from sklearn.metrics import matthews_corrcoef\n",
    "from sklearn.metrics import f1_score"
   ]
  },
  {
   "cell_type": "code",
   "execution_count": 18,
   "metadata": {},
   "outputs": [
    {
     "name": "stdout",
     "output_type": "stream",
     "text": [
      "Accuracy Score:  0.5821517931609674\n",
      "Cross Validation Score:  0.6313720362622036\n",
      "Precision Score:  0.5821517931609674\n",
      "MCC Score:  0.14253674633998\n",
      "F1-Score:  0.40850059031877217\n"
     ]
    },
    {
     "data": {
      "image/png": "[encoded data removed]",
      "text/plain": [
       "<Figure size 432x288 with 2 Axes>"
      ]
     },
     "metadata": {
      "needs_background": "light"
     },
     "output_type": "display_data"
    }
   ],
   "source": [
    "from sklearn.naive_bayes import GaussianNB\n",
    "gnb=GaussianNB()\n",
    "gnb_m=gnb.fit(X_train,Y_train)\n",
    "Y_pred=gnb.predict(X_test)\n",
    "from sklearn.metrics import confusion_matrix\n",
    "result =confusion_matrix(np.squeeze(Y_test),np.squeeze(Y_pred))\n",
    "plot_confusion_matrix(result)\n",
    "print('Accuracy Score: ', accuracy_score(Y_test, Y_pred))\n",
    "print('Cross Validation Score: ',cross_val_score(gnb_m, X_test, Y_test, cv = 10).mean())\n",
    "print('Precision Score: ',precision_score(Y_test, Y_pred,average='micro'))\n",
    "print('MCC Score: ',matthews_corrcoef(Y_test, Y_pred) )\n",
    "print('F1-Score: ',f1_score(Y_test, Y_pred))\n"
   ]
  },
  {
   "cell_type": "code",
   "execution_count": 19,
   "metadata": {},
   "outputs": [
    {
     "name": "stdout",
     "output_type": "stream",
     "text": [
      "Accuracy Score:  0.780650542118432\n",
      "Cross Validation Score:  0.7656433054393306\n",
      "Precision Score:  0.780650542118432\n",
      "Recall Score:  0.1414141414141414\n",
      "MCC Score:  0.2862198180261058\n",
      "F1-Score:  0.24207492795389046\n"
     ]
    },
    {
     "data": {
      "image/png": "[encoded data removed]",
      "text/plain": [
       "<Figure size 432x288 with 2 Axes>"
      ]
     },
     "metadata": {
      "needs_background": "light"
     },
     "output_type": "display_data"
    }
   ],
   "source": [
    "from sklearn.linear_model import LogisticRegression\n",
    "lr=LogisticRegression()\n",
    "lr_m=lr.fit(X_train,Y_train)\n",
    "Y_pred=lr.predict(X_test)\n",
    "result =confusion_matrix(np.squeeze(Y_test),np.squeeze(Y_pred))\n",
    "plot_confusion_matrix(result)\n",
    "print('Accuracy Score: ', accuracy_score(Y_test, Y_pred))\n",
    "print('Cross Validation Score: ',cross_val_score(lr_m, X_test, Y_test, cv = 10).mean())\n",
    "print('Precision Score: ',precision_score(Y_test, Y_pred,average='micro'))\n",
    "print('Recall Score: ',recall_score(Y_test, Y_pred))\n",
    "print('MCC Score: ',matthews_corrcoef(Y_test, Y_pred) )\n",
    "print('F1-Score: ',f1_score(Y_test, Y_pred))"
   ]
  },
  {
   "cell_type": "code",
   "execution_count": 22,
   "metadata": {},
   "outputs": [
    {
     "name": "stdout",
     "output_type": "stream",
     "text": [
      "Accuracy Score:  0.7602168473728107\n",
      "Cross Validation Score:  0.7477122444722569\n",
      "Precision Score:  0.7602168473728107\n",
      "Recall Score:  0.36363636363636365\n",
      "MCC Score:  0.29089239011783824\n",
      "F1-Score:  0.42899702085402186\n"
     ]
    },
    {
     "data": {
      "image/png": "[encoded data removed]",
      "text/plain": [
       "<Figure size 432x288 with 2 Axes>"
      ]
     },
     "metadata": {
      "needs_background": "light"
     },
     "output_type": "display_data"
    }
   ],
   "source": [
    "from sklearn.ensemble import RandomForestClassifier\n",
    "rf=RandomForestClassifier()\n",
    "rf_m=rf.fit(X_train,Y_train)\n",
    "Y_pred=rf.predict(X_test)\n",
    "result =confusion_matrix(np.squeeze(Y_test),np.squeeze(Y_pred))\n",
    "plot_confusion_matrix(result)\n",
    "print('Accuracy Score: ', accuracy_score(Y_test, Y_pred))\n",
    "print('Cross Validation Score: ',cross_val_score(rf_m, X_test, Y_test, cv = 3).mean())\n",
    "print('Precision Score: ',precision_score(Y_test, Y_pred,average='micro'))\n",
    "print('Recall Score: ',recall_score(Y_test, Y_pred))\n",
    "print('MCC Score: ',matthews_corrcoef(Y_test, Y_pred) )\n",
    "print('F1-Score: ',f1_score(Y_test, Y_pred))"
   ]
  },
  {
   "cell_type": "code",
   "execution_count": null,
   "metadata": {},
   "outputs": [],
   "source": []
  }
 ],
 "metadata": {
  "kernelspec": {
   "display_name": "Python 3",
   "language": "python",
   "name": "python3"
  },
  "language_info": {
   "codemirror_mode": {
    "name": "ipython",
    "version": 3
   },
   "file_extension": ".py",
   "mimetype": "text/x-python",
   "name": "python",
   "nbconvert_exporter": "python",
   "pygments_lexer": "ipython3",
   "version": "3.8.3"
  }
 },
 "nbformat": 4,
 "nbformat_minor": 4
}
